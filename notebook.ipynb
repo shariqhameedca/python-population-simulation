{
 "cells": [
  {
   "cell_type": "code",
   "execution_count": 302,
   "id": "aa034f74",
   "metadata": {},
   "outputs": [],
   "source": [
    "import random"
   ]
  },
  {
   "cell_type": "code",
   "execution_count": 303,
   "id": "61482f70",
   "metadata": {},
   "outputs": [],
   "source": [
    "# Factors that affect the population\n",
    "\n",
    "# 1. Starting Population\n",
    "# 2. Infant mortality\n",
    "# 3. Food\n",
    "# 4. Fertility x and Fertility y\n",
    "# 5. Healthcare\n",
    "# 6. Agriculture\n",
    "# 7. Chance of disaster\n",
    "# 8. Age of death\n",
    "# 9. War related deaths\n",
    "# 10. "
   ]
  },
  {
   "cell_type": "code",
   "execution_count": 304,
   "id": "dd06f22e",
   "metadata": {},
   "outputs": [],
   "source": [
    "startingPopulation = 50\n",
    "infantMortality = 25\n",
    "food = 0\n",
    "agriculture = 5\n",
    "disasterChance = 10\n",
    "fertilityX = 18\n",
    "fertilityY = 35\n",
    "youthMortality = 45\n",
    "ageOfDeath = 80\n",
    "healthcare = 95\n",
    "warDeaths = 2"
   ]
  },
  {
   "cell_type": "code",
   "execution_count": 305,
   "id": "c4ab7e87",
   "metadata": {},
   "outputs": [],
   "source": [
    "populationList = []"
   ]
  },
  {
   "cell_type": "code",
   "execution_count": 306,
   "id": "7c513866",
   "metadata": {},
   "outputs": [],
   "source": [
    "class Person:\n",
    "    def __init__(self, age):\n",
    "        self.gender = random.randint(0,1)\n",
    "        self.age = age"
   ]
  },
  {
   "cell_type": "code",
   "execution_count": 307,
   "id": "0d8d8647",
   "metadata": {},
   "outputs": [],
   "source": [
    "# This function will run every year. It will produce food for the next year and if not enough able people produce\n",
    "# food, people will die from starvation.\n",
    "\n",
    "def harvest(food, agriculture):\n",
    "    ablePeople = 0\n",
    "    for person in populationList:\n",
    "        if person.age > 18:\n",
    "            ablePeople += 1\n",
    "        \n",
    "    food += ablePeople * agriculture\n",
    "    \n",
    "    if food < len(populationList):\n",
    "        del populationList[0: int(len(populationList) - food)]\n",
    "    else:\n",
    "        food -= len(populationList)"
   ]
  },
  {
   "cell_type": "code",
   "execution_count": 308,
   "id": "b1cdfd27",
   "metadata": {},
   "outputs": [],
   "source": [
    "# This function will increase the population based on the given conditions\n",
    "\n",
    "def reproduce(fertilityX, fertilityY):\n",
    "    for person in populationList:\n",
    "        if person.age > fertilityX and person.age < fertilityY and random.randint(0,5) == 1 and random.randint(0,100) > 5:\n",
    "            populationList.append(Person(0))"
   ]
  },
  {
   "cell_type": "code",
   "execution_count": 309,
   "id": "52da04fd",
   "metadata": {},
   "outputs": [],
   "source": [
    "# This function will kickstart the simulation by adding the starting population\n",
    "# to the populationList\n",
    "\n",
    "def beginSim():\n",
    "    for x in range(startingPopulation):\n",
    "        populationList.append(Person(random.randint(18,50)))"
   ]
  },
  {
   "cell_type": "code",
   "execution_count": 310,
   "id": "773ac00f",
   "metadata": {},
   "outputs": [],
   "source": [
    "beginSim()"
   ]
  },
  {
   "cell_type": "code",
   "execution_count": 311,
   "id": "5d4e9dbb",
   "metadata": {},
   "outputs": [],
   "source": [
    "popTrack = []\n",
    "def runYear(food, agriculture, fertilityX, fertilityY, infantMortality, healthcare, warDeaths):\n",
    "    harvest(food, agriculture)\n",
    "    reproduce(fertilityX, fertilityY)\n",
    "    \n",
    "    for person in populationList:\n",
    "        if person.age>ageOfDeath:\n",
    "            populationList.remove(person)\n",
    "        else:\n",
    "            person.age += 1\n",
    "    \n",
    "    # There's a 10% chance of disaster happening\n",
    "    if random.randint(0,100)<disasterChance:\n",
    "        del populationList[0:int(random.uniform(0.05,0.1)*len(populationList))]\n",
    "\n",
    "    # There's a 5% chance of people dying due to diseases (even before 80)\n",
    "    if random.randint(0,100)>healthcare:\n",
    "        del populationList[0:int(random.uniform(0.05,0.1)*len(populationList))]\n",
    "        \n",
    "    # War related deaths\n",
    "    if random.randint(0,100)<warDeaths:\n",
    "        del populationList[0:int(random.uniform(0.01, 0.02)*len(populationList))]\n",
    "        \n",
    "    popTrack.append(len(populationList))\n",
    "    infantMortality *= 0.9\n",
    "    healthcare *= 1.1\n",
    "    warDeaths *= 0.9\n",
    "    return infantMortality, healthcare, warDeaths"
   ]
  },
  {
   "cell_type": "code",
   "execution_count": 312,
   "id": "c787505e",
   "metadata": {},
   "outputs": [
    {
     "data": {
      "text/plain": [
       "<function __main__.runYear(food, agriculture, fertilityX, fertilityY, infantMortality, healthcare, warDeaths)>"
      ]
     },
     "execution_count": 312,
     "metadata": {},
     "output_type": "execute_result"
    }
   ],
   "source": [
    "runYear"
   ]
  },
  {
   "cell_type": "code",
   "execution_count": 313,
   "id": "c3873a0f",
   "metadata": {},
   "outputs": [],
   "source": [
    "while len(populationList)<100000 and len(populationList) > 1:\n",
    "    infantMortality, healthcare, warDeaths = runYear(food, agriculture, fertilityX, fertilityY, infantMortality, healthcare, warDeaths)"
   ]
  },
  {
   "cell_type": "code",
   "execution_count": 314,
   "id": "52e8c3c1",
   "metadata": {},
   "outputs": [],
   "source": [
    "import numpy as np\n",
    "\n",
    "popTrack_np = np.array(popTrack)"
   ]
  },
  {
   "cell_type": "code",
   "execution_count": 315,
   "id": "2b69e7cc",
   "metadata": {},
   "outputs": [
    {
     "data": {
      "text/plain": [
       "Text(0, 0.5, 'Population')"
      ]
     },
     "execution_count": 315,
     "metadata": {},
     "output_type": "execute_result"
    },
    {
     "data": {
      "image/png": "[encoded data removed]",
      "text/plain": [
       "<Figure size 432x288 with 1 Axes>"
      ]
     },
     "metadata": {
      "needs_background": "light"
     },
     "output_type": "display_data"
    }
   ],
   "source": [
    "from matplotlib import pyplot as plt\n",
    "\n",
    "plt.plot(range(len(popTrack_np)), popTrack_np)\n",
    "plt.title(\"Population vs Year\")\n",
    "plt.xlabel(\"Year\")\n",
    "plt.ylabel(\"Population\")"
   ]
  }
 ],
 "metadata": {
  "kernelspec": {
   "display_name": "Python 3",
   "language": "python",
   "name": "python3"
  },
  "language_info": {
   "codemirror_mode": {
    "name": "ipython",
    "version": 3
   },
   "file_extension": ".py",
   "mimetype": "text/x-python",
   "name": "python",
   "nbconvert_exporter": "python",
   "pygments_lexer": "ipython3",
   "version": "3.8.8"
  }
 },
 "nbformat": 4,
 "nbformat_minor": 5
}
